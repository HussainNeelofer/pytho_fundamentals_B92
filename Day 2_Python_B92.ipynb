{
 "cells": [
  {
   "cell_type": "code",
   "execution_count": null,
   "id": "07585faf-b8ca-4366-aecc-b742533f51cf",
   "metadata": {},
   "outputs": [],
   "source": [
    "# Variables:"
   ]
  },
  {
   "cell_type": "code",
   "execution_count": 1,
   "id": "a3813b5b-a941-4dba-8efe-d1e9db083f71",
   "metadata": {},
   "outputs": [
    {
     "name": "stdout",
     "output_type": "stream",
     "text": [
      "5\n"
     ]
    }
   ],
   "source": [
    "x = 2\n",
    "y = 3\n",
    "z = x+y\n",
    "print(z)"
   ]
  },
  {
   "cell_type": "code",
   "execution_count": null,
   "id": "1c50b607-1e77-4968-85de-68543b74e65e",
   "metadata": {},
   "outputs": [],
   "source": [
    "# no namespase"
   ]
  },
  {
   "cell_type": "code",
   "execution_count": 2,
   "id": "6263519e-357f-4efd-b468-ec8e9f910fbf",
   "metadata": {},
   "outputs": [
    {
     "name": "stdout",
     "output_type": "stream",
     "text": [
      "Neelofer\n"
     ]
    }
   ],
   "source": [
    "first_name = 'Neelofer'\n",
    "print(first_name)"
   ]
  },
  {
   "cell_type": "code",
   "execution_count": null,
   "id": "dbefd3d2-da6b-4a24-ab79-7d807cdceb3c",
   "metadata": {},
   "outputs": [],
   "source": [
    "# do not start with the number"
   ]
  },
  {
   "cell_type": "code",
   "execution_count": 3,
   "id": "63675dd4-e243-4d0d-bb0f-ce0d76f1208f",
   "metadata": {},
   "outputs": [
    {
     "name": "stdout",
     "output_type": "stream",
     "text": [
      "hussain\n"
     ]
    }
   ],
   "source": [
    "name = 'hussain'\n",
    "print(name)"
   ]
  },
  {
   "cell_type": "code",
   "execution_count": null,
   "id": "2abb2da8-f83c-4faa-a017-26c4e4f4176e",
   "metadata": {},
   "outputs": [],
   "source": [
    "# no special charecters"
   ]
  },
  {
   "cell_type": "code",
   "execution_count": 4,
   "id": "ada8a22f-0a38-4642-8c7a-157fe32dfe47",
   "metadata": {},
   "outputs": [
    {
     "name": "stdout",
     "output_type": "stream",
     "text": [
      " neelofer hussain\n"
     ]
    }
   ],
   "source": [
    "name = ' neelofer hussain'\n",
    "print(name)\n"
   ]
  },
  {
   "cell_type": "code",
   "execution_count": null,
   "id": "bffbd282-04f2-499f-9b66-3371457dea36",
   "metadata": {},
   "outputs": [],
   "source": [
    "#String Datatype"
   ]
  },
  {
   "cell_type": "code",
   "execution_count": 6,
   "id": "b88476ed-fd04-4b2a-86a6-0b4989301e88",
   "metadata": {},
   "outputs": [
    {
     "data": {
      "text/plain": [
       "str"
      ]
     },
     "execution_count": 6,
     "metadata": {},
     "output_type": "execute_result"
    }
   ],
   "source": [
    "type(name)"
   ]
  },
  {
   "cell_type": "code",
   "execution_count": 11,
   "id": "2a52d1d8-f572-4abe-a4f6-05c29f64c6d1",
   "metadata": {},
   "outputs": [
    {
     "name": "stdout",
     "output_type": "stream",
     "text": [
      "neelofer hussain\n",
      "Neelofer Hussain\n",
      "NEELOFER HUSSAIN\n",
      "neelofer hussain\n"
     ]
    }
   ],
   "source": [
    "fullname = 'neelofer hussain'\n",
    "print(fullname)\n",
    "print(fullname.title())\n",
    "print(fullname.upper())\n",
    "print(fullname.lower())"
   ]
  },
  {
   "cell_type": "code",
   "execution_count": null,
   "id": "574bf5b3-c7a7-4c83-a81f-37508c4ff960",
   "metadata": {},
   "outputs": [],
   "source": []
  }
 ],
 "metadata": {
  "kernelspec": {
   "display_name": "Python 3 (ipykernel)",
   "language": "python",
   "name": "python3"
  },
  "language_info": {
   "codemirror_mode": {
    "name": "ipython",
    "version": 3
   },
   "file_extension": ".py",
   "mimetype": "text/x-python",
   "name": "python",
   "nbconvert_exporter": "python",
   "pygments_lexer": "ipython3",
   "version": "3.12.7"
  }
 },
 "nbformat": 4,
 "nbformat_minor": 5
}
